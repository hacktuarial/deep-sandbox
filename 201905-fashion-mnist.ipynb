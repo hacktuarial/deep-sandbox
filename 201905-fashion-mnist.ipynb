{
 "cells": [
  {
   "cell_type": "code",
   "execution_count": 1,
   "metadata": {
    "colab": {},
    "colab_type": "code",
    "id": "dzLKpmZICaWN"
   },
   "outputs": [
    {
     "name": "stdout",
     "output_type": "stream",
     "text": [
      "1.13.1\n"
     ]
    }
   ],
   "source": [
    "from __future__ import absolute_import, division, print_function, unicode_literals\n",
    "\n",
    "# TensorFlow and tf.keras\n",
    "import tensorflow as tf\n",
    "from tensorflow import keras\n",
    "\n",
    "# Helper libraries\n",
    "import numpy as np\n",
    "import matplotlib.pyplot as plt\n",
    "\n",
    "print(tf.__version__)"
   ]
  },
  {
   "cell_type": "code",
   "execution_count": 2,
   "metadata": {
    "colab": {},
    "colab_type": "code",
    "id": "7MqDQO0KCaWS"
   },
   "outputs": [],
   "source": [
    "fashion_mnist = keras.datasets.fashion_mnist\n",
    "\n",
    "(train_images, train_labels), (test_images, test_labels) = fashion_mnist.load_data()"
   ]
  },
  {
   "cell_type": "code",
   "execution_count": 3,
   "metadata": {
    "colab": {},
    "colab_type": "code",
    "id": "IjnLH5S2CaWx"
   },
   "outputs": [],
   "source": [
    "class_names = ['T-shirt/top', 'Trouser', 'Pullover', 'Dress', 'Coat',\n",
    "               'Sandal', 'Shirt', 'Sneaker', 'Bag', 'Ankle boot']"
   ]
  },
  {
   "cell_type": "code",
   "execution_count": 4,
   "metadata": {
    "colab": {},
    "colab_type": "code",
    "id": "bW5WzIPlCaWv"
   },
   "outputs": [],
   "source": [
    "train_images = train_images / 255.0\n",
    "test_images = test_images / 255.0"
   ]
  },
  {
   "cell_type": "code",
   "execution_count": 5,
   "metadata": {
    "colab": {},
    "colab_type": "code",
    "id": "9ODch-OFCaW4"
   },
   "outputs": [
    {
     "name": "stdout",
     "output_type": "stream",
     "text": [
      "WARNING:tensorflow:From /Users/timothysweetser/.pyenv/versions/3.6.6/envs/deep/lib/python3.6/site-packages/tensorflow/python/ops/resource_variable_ops.py:435: colocate_with (from tensorflow.python.framework.ops) is deprecated and will be removed in a future version.\n",
      "Instructions for updating:\n",
      "Colocations handled automatically by placer.\n",
      "WARNING:tensorflow:From /Users/timothysweetser/.pyenv/versions/3.6.6/envs/deep/lib/python3.6/site-packages/tensorflow/python/keras/layers/core.py:143: calling dropout (from tensorflow.python.ops.nn_ops) with keep_prob is deprecated and will be removed in a future version.\n",
      "Instructions for updating:\n",
      "Please use `rate` instead of `keep_prob`. Rate should be set to `rate = 1 - keep_prob`.\n"
     ]
    }
   ],
   "source": [
    "llama = 1e-5  # l2 regularization on weights\n",
    "dropout = 0.2\n",
    "\n",
    "model = keras.Sequential([\n",
    "    keras.layers.Flatten(input_shape=(28, 28)),\n",
    "    keras.layers.Dense(128, activation=tf.nn.relu, kernel_regularizer=keras.regularizers.l2(llama)),\n",
    "    keras.layers.BatchNormalization(),\n",
    "    keras.layers.Dropout(rate=dropout),\n",
    "    keras.layers.Dense(128, activation=tf.nn.relu, kernel_regularizer=keras.regularizers.l2(llama)),\n",
    "    keras.layers.BatchNormalization(),\n",
    "    keras.layers.Dropout(rate=dropout),\n",
    "    keras.layers.Dense(10, activation=tf.nn.softmax, kernel_regularizer=keras.regularizers.l2(llama))\n",
    "])"
   ]
  },
  {
   "cell_type": "code",
   "execution_count": 6,
   "metadata": {
    "colab": {},
    "colab_type": "code",
    "id": "Lhan11blCaW7"
   },
   "outputs": [],
   "source": [
    "opt = keras.optimizers.Adam(lr=1e-4, epsilon=1e-8)\n",
    "model.compile(optimizer=opt,\n",
    "              loss='sparse_categorical_crossentropy',\n",
    "              metrics=['accuracy'])"
   ]
  },
  {
   "cell_type": "code",
   "execution_count": 7,
   "metadata": {
    "colab": {},
    "colab_type": "code",
    "id": "xvwvpA64CaW_"
   },
   "outputs": [
    {
     "name": "stdout",
     "output_type": "stream",
     "text": [
      "WARNING:tensorflow:From /Users/timothysweetser/.pyenv/versions/3.6.6/envs/deep/lib/python3.6/site-packages/tensorflow/python/ops/math_ops.py:3066: to_int32 (from tensorflow.python.ops.math_ops) is deprecated and will be removed in a future version.\n",
      "Instructions for updating:\n",
      "Use tf.cast instead.\n",
      "Epoch 1/20\n",
      "60000/60000 [==============================] - 6s 104us/sample - loss: 0.8006 - acc: 0.7318\n",
      "Epoch 2/20\n",
      "60000/60000 [==============================] - 6s 96us/sample - loss: 0.5327 - acc: 0.8154\n",
      "Epoch 3/20\n",
      "60000/60000 [==============================] - 6s 96us/sample - loss: 0.4739 - acc: 0.8344\n",
      "Epoch 4/20\n",
      "60000/60000 [==============================] - 6s 94us/sample - loss: 0.4393 - acc: 0.8457\n",
      "Epoch 5/20\n",
      "60000/60000 [==============================] - 6s 96us/sample - loss: 0.4185 - acc: 0.8515\n",
      "Epoch 6/20\n",
      "60000/60000 [==============================] - 6s 93us/sample - loss: 0.4018 - acc: 0.8575\n",
      "Epoch 7/20\n",
      "60000/60000 [==============================] - 6s 101us/sample - loss: 0.3880 - acc: 0.8630\n",
      "Epoch 8/20\n",
      "60000/60000 [==============================] - 6s 105us/sample - loss: 0.3712 - acc: 0.8676\n",
      "Epoch 9/20\n",
      "60000/60000 [==============================] - 6s 93us/sample - loss: 0.3659 - acc: 0.8693\n",
      "Epoch 10/20\n",
      "60000/60000 [==============================] - 6s 96us/sample - loss: 0.3520 - acc: 0.8727\n",
      "Epoch 11/20\n",
      "60000/60000 [==============================] - 8s 126us/sample - loss: 0.3452 - acc: 0.8768\n",
      "Epoch 12/20\n",
      "60000/60000 [==============================] - 8s 127us/sample - loss: 0.3366 - acc: 0.8804\n",
      "Epoch 13/20\n",
      "60000/60000 [==============================] - 6s 105us/sample - loss: 0.3327 - acc: 0.8805\n",
      "Epoch 14/20\n",
      "60000/60000 [==============================] - 6s 103us/sample - loss: 0.3255 - acc: 0.8824\n",
      "Epoch 15/20\n",
      "60000/60000 [==============================] - 6s 100us/sample - loss: 0.3206 - acc: 0.8833\n",
      "Epoch 16/20\n",
      "60000/60000 [==============================] - 7s 117us/sample - loss: 0.3152 - acc: 0.8869\n",
      "Epoch 17/20\n",
      "60000/60000 [==============================] - 6s 94us/sample - loss: 0.3103 - acc: 0.8874\n",
      "Epoch 18/20\n",
      "60000/60000 [==============================] - 6s 94us/sample - loss: 0.3021 - acc: 0.8899\n",
      "Epoch 19/20\n",
      "60000/60000 [==============================] - 7s 118us/sample - loss: 0.2991 - acc: 0.8918\n",
      "Epoch 20/20\n",
      "60000/60000 [==============================] - 6s 106us/sample - loss: 0.2961 - acc: 0.8948\n"
     ]
    },
    {
     "data": {
      "text/plain": [
       "<tensorflow.python.keras.callbacks.History at 0x14b0ae860>"
      ]
     },
     "execution_count": 7,
     "metadata": {},
     "output_type": "execute_result"
    }
   ],
   "source": [
    "model.fit(train_images, train_labels, epochs=20)"
   ]
  },
  {
   "cell_type": "code",
   "execution_count": 8,
   "metadata": {
    "colab": {},
    "colab_type": "code",
    "id": "VflXLEeECaXC"
   },
   "outputs": [
    {
     "name": "stdout",
     "output_type": "stream",
     "text": [
      "10000/10000 [==============================] - 0s 44us/sample - loss: 0.3232 - acc: 0.8851\n",
      "Test accuracy: 0.8851\n"
     ]
    }
   ],
   "source": [
    "test_loss, test_acc = model.evaluate(test_images, test_labels)\n",
    "\n",
    "print('Test accuracy:', test_acc)"
   ]
  },
  {
   "cell_type": "code",
   "execution_count": null,
   "metadata": {},
   "outputs": [],
   "source": []
  }
 ],
 "metadata": {
  "colab": {
   "collapsed_sections": [],
   "name": "basic_classification.ipynb",
   "private_outputs": true,
   "provenance": [],
   "toc_visible": true,
   "version": "0.3.2"
  },
  "kernelspec": {
   "display_name": "Python 3",
   "language": "python",
   "name": "python3"
  },
  "language_info": {
   "codemirror_mode": {
    "name": "ipython",
    "version": 3
   },
   "file_extension": ".py",
   "mimetype": "text/x-python",
   "name": "python",
   "nbconvert_exporter": "python",
   "pygments_lexer": "ipython3",
   "version": "3.6.6"
  }
 },
 "nbformat": 4,
 "nbformat_minor": 1
}
